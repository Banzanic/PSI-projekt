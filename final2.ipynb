{
  "nbformat": 4,
  "nbformat_minor": 0,
  "metadata": {
    "colab": {
      "name": "final2.ipynb",
      "provenance": [],
      "authorship_tag": "ABX9TyNsJ0QbZwINW9HTVgK+MtHt",
      "include_colab_link": true
    },
    "kernelspec": {
      "name": "python3",
      "display_name": "Python 3"
    },
    "language_info": {
      "name": "python"
    }
  },
  "cells": [
    {
      "cell_type": "markdown",
      "metadata": {
        "id": "view-in-github",
        "colab_type": "text"
      },
      "source": [
        "<a href=\"https://colab.research.google.com/github/Banzanic/PSI-projekt/blob/main/final2.ipynb\" target=\"_parent\"><img src=\"https://colab.research.google.com/assets/colab-badge.svg\" alt=\"Open In Colab\"/></a>"
      ]
    },
    {
      "cell_type": "code",
      "execution_count": 40,
      "metadata": {
        "id": "oJg9QPAnS_UO"
      },
      "outputs": [],
      "source": [
        "import numpy as np\n",
        "import pandas as pd\n",
        "import matplotlib.pyplot as plt\n",
        "import random\n",
        "import seaborn as sns"
      ]
    },
    {
      "cell_type": "markdown",
      "source": [
        "# **Wczytywanie danych**"
      ],
      "metadata": {
        "id": "OdSSppvhXAto"
      }
    },
    {
      "cell_type": "code",
      "source": [
        "df = pd.read_csv('https://raw.githubusercontent.com/Banzanic/PSI-projekt/main/test_scores.csv')\n",
        "df.head()"
      ],
      "metadata": {
        "colab": {
          "base_uri": "https://localhost:8080/",
          "height": 206
        },
        "id": "S59tooihUpC1",
        "outputId": "b5514017-5b59-4f51-9cdc-51fae174825e"
      },
      "execution_count": 41,
      "outputs": [
        {
          "output_type": "execute_result",
          "data": {
            "text/plain": [
              "  school school_setting school_type classroom teaching_method  n_student  \\\n",
              "0  ANKYI          Urban  Non-public       6OL        Standard       20.0   \n",
              "1  ANKYI          Urban  Non-public       6OL        Standard       20.0   \n",
              "2  ANKYI          Urban  Non-public       6OL        Standard       20.0   \n",
              "3  ANKYI          Urban  Non-public       6OL        Standard       20.0   \n",
              "4  ANKYI          Urban  Non-public       6OL        Standard       20.0   \n",
              "\n",
              "  student_id  gender             lunch  pretest  posttest  \n",
              "0      2FHT3  Female  Does not qualify     62.0      72.0  \n",
              "1      3JIVH  Female  Does not qualify     66.0      79.0  \n",
              "2      3XOWE    Male  Does not qualify     64.0      76.0  \n",
              "3      556O0  Female  Does not qualify     61.0      77.0  \n",
              "4      74LOE    Male  Does not qualify     64.0      76.0  "
            ],
            "text/html": [
              "\n",
              "  <div id=\"df-186902f8-1c25-4295-9cd6-d98c23ca866b\">\n",
              "    <div class=\"colab-df-container\">\n",
              "      <div>\n",
              "<style scoped>\n",
              "    .dataframe tbody tr th:only-of-type {\n",
              "        vertical-align: middle;\n",
              "    }\n",
              "\n",
              "    .dataframe tbody tr th {\n",
              "        vertical-align: top;\n",
              "    }\n",
              "\n",
              "    .dataframe thead th {\n",
              "        text-align: right;\n",
              "    }\n",
              "</style>\n",
              "<table border=\"1\" class=\"dataframe\">\n",
              "  <thead>\n",
              "    <tr style=\"text-align: right;\">\n",
              "      <th></th>\n",
              "      <th>school</th>\n",
              "      <th>school_setting</th>\n",
              "      <th>school_type</th>\n",
              "      <th>classroom</th>\n",
              "      <th>teaching_method</th>\n",
              "      <th>n_student</th>\n",
              "      <th>student_id</th>\n",
              "      <th>gender</th>\n",
              "      <th>lunch</th>\n",
              "      <th>pretest</th>\n",
              "      <th>posttest</th>\n",
              "    </tr>\n",
              "  </thead>\n",
              "  <tbody>\n",
              "    <tr>\n",
              "      <th>0</th>\n",
              "      <td>ANKYI</td>\n",
              "      <td>Urban</td>\n",
              "      <td>Non-public</td>\n",
              "      <td>6OL</td>\n",
              "      <td>Standard</td>\n",
              "      <td>20.0</td>\n",
              "      <td>2FHT3</td>\n",
              "      <td>Female</td>\n",
              "      <td>Does not qualify</td>\n",
              "      <td>62.0</td>\n",
              "      <td>72.0</td>\n",
              "    </tr>\n",
              "    <tr>\n",
              "      <th>1</th>\n",
              "      <td>ANKYI</td>\n",
              "      <td>Urban</td>\n",
              "      <td>Non-public</td>\n",
              "      <td>6OL</td>\n",
              "      <td>Standard</td>\n",
              "      <td>20.0</td>\n",
              "      <td>3JIVH</td>\n",
              "      <td>Female</td>\n",
              "      <td>Does not qualify</td>\n",
              "      <td>66.0</td>\n",
              "      <td>79.0</td>\n",
              "    </tr>\n",
              "    <tr>\n",
              "      <th>2</th>\n",
              "      <td>ANKYI</td>\n",
              "      <td>Urban</td>\n",
              "      <td>Non-public</td>\n",
              "      <td>6OL</td>\n",
              "      <td>Standard</td>\n",
              "      <td>20.0</td>\n",
              "      <td>3XOWE</td>\n",
              "      <td>Male</td>\n",
              "      <td>Does not qualify</td>\n",
              "      <td>64.0</td>\n",
              "      <td>76.0</td>\n",
              "    </tr>\n",
              "    <tr>\n",
              "      <th>3</th>\n",
              "      <td>ANKYI</td>\n",
              "      <td>Urban</td>\n",
              "      <td>Non-public</td>\n",
              "      <td>6OL</td>\n",
              "      <td>Standard</td>\n",
              "      <td>20.0</td>\n",
              "      <td>556O0</td>\n",
              "      <td>Female</td>\n",
              "      <td>Does not qualify</td>\n",
              "      <td>61.0</td>\n",
              "      <td>77.0</td>\n",
              "    </tr>\n",
              "    <tr>\n",
              "      <th>4</th>\n",
              "      <td>ANKYI</td>\n",
              "      <td>Urban</td>\n",
              "      <td>Non-public</td>\n",
              "      <td>6OL</td>\n",
              "      <td>Standard</td>\n",
              "      <td>20.0</td>\n",
              "      <td>74LOE</td>\n",
              "      <td>Male</td>\n",
              "      <td>Does not qualify</td>\n",
              "      <td>64.0</td>\n",
              "      <td>76.0</td>\n",
              "    </tr>\n",
              "  </tbody>\n",
              "</table>\n",
              "</div>\n",
              "      <button class=\"colab-df-convert\" onclick=\"convertToInteractive('df-186902f8-1c25-4295-9cd6-d98c23ca866b')\"\n",
              "              title=\"Convert this dataframe to an interactive table.\"\n",
              "              style=\"display:none;\">\n",
              "        \n",
              "  <svg xmlns=\"http://www.w3.org/2000/svg\" height=\"24px\"viewBox=\"0 0 24 24\"\n",
              "       width=\"24px\">\n",
              "    <path d=\"M0 0h24v24H0V0z\" fill=\"none\"/>\n",
              "    <path d=\"M18.56 5.44l.94 2.06.94-2.06 2.06-.94-2.06-.94-.94-2.06-.94 2.06-2.06.94zm-11 1L8.5 8.5l.94-2.06 2.06-.94-2.06-.94L8.5 2.5l-.94 2.06-2.06.94zm10 10l.94 2.06.94-2.06 2.06-.94-2.06-.94-.94-2.06-.94 2.06-2.06.94z\"/><path d=\"M17.41 7.96l-1.37-1.37c-.4-.4-.92-.59-1.43-.59-.52 0-1.04.2-1.43.59L10.3 9.45l-7.72 7.72c-.78.78-.78 2.05 0 2.83L4 21.41c.39.39.9.59 1.41.59.51 0 1.02-.2 1.41-.59l7.78-7.78 2.81-2.81c.8-.78.8-2.07 0-2.86zM5.41 20L4 18.59l7.72-7.72 1.47 1.35L5.41 20z\"/>\n",
              "  </svg>\n",
              "      </button>\n",
              "      \n",
              "  <style>\n",
              "    .colab-df-container {\n",
              "      display:flex;\n",
              "      flex-wrap:wrap;\n",
              "      gap: 12px;\n",
              "    }\n",
              "\n",
              "    .colab-df-convert {\n",
              "      background-color: #E8F0FE;\n",
              "      border: none;\n",
              "      border-radius: 50%;\n",
              "      cursor: pointer;\n",
              "      display: none;\n",
              "      fill: #1967D2;\n",
              "      height: 32px;\n",
              "      padding: 0 0 0 0;\n",
              "      width: 32px;\n",
              "    }\n",
              "\n",
              "    .colab-df-convert:hover {\n",
              "      background-color: #E2EBFA;\n",
              "      box-shadow: 0px 1px 2px rgba(60, 64, 67, 0.3), 0px 1px 3px 1px rgba(60, 64, 67, 0.15);\n",
              "      fill: #174EA6;\n",
              "    }\n",
              "\n",
              "    [theme=dark] .colab-df-convert {\n",
              "      background-color: #3B4455;\n",
              "      fill: #D2E3FC;\n",
              "    }\n",
              "\n",
              "    [theme=dark] .colab-df-convert:hover {\n",
              "      background-color: #434B5C;\n",
              "      box-shadow: 0px 1px 3px 1px rgba(0, 0, 0, 0.15);\n",
              "      filter: drop-shadow(0px 1px 2px rgba(0, 0, 0, 0.3));\n",
              "      fill: #FFFFFF;\n",
              "    }\n",
              "  </style>\n",
              "\n",
              "      <script>\n",
              "        const buttonEl =\n",
              "          document.querySelector('#df-186902f8-1c25-4295-9cd6-d98c23ca866b button.colab-df-convert');\n",
              "        buttonEl.style.display =\n",
              "          google.colab.kernel.accessAllowed ? 'block' : 'none';\n",
              "\n",
              "        async function convertToInteractive(key) {\n",
              "          const element = document.querySelector('#df-186902f8-1c25-4295-9cd6-d98c23ca866b');\n",
              "          const dataTable =\n",
              "            await google.colab.kernel.invokeFunction('convertToInteractive',\n",
              "                                                     [key], {});\n",
              "          if (!dataTable) return;\n",
              "\n",
              "          const docLinkHtml = 'Like what you see? Visit the ' +\n",
              "            '<a target=\"_blank\" href=https://colab.research.google.com/notebooks/data_table.ipynb>data table notebook</a>'\n",
              "            + ' to learn more about interactive tables.';\n",
              "          element.innerHTML = '';\n",
              "          dataTable['output_type'] = 'display_data';\n",
              "          await google.colab.output.renderOutput(dataTable, element);\n",
              "          const docLink = document.createElement('div');\n",
              "          docLink.innerHTML = docLinkHtml;\n",
              "          element.appendChild(docLink);\n",
              "        }\n",
              "      </script>\n",
              "    </div>\n",
              "  </div>\n",
              "  "
            ]
          },
          "metadata": {},
          "execution_count": 41
        }
      ]
    },
    {
      "cell_type": "markdown",
      "source": [
        "# **Przetwarzanie danych**"
      ],
      "metadata": {
        "id": "266dFEl2XX2a"
      }
    },
    {
      "cell_type": "code",
      "source": [
        "df.info()"
      ],
      "metadata": {
        "colab": {
          "base_uri": "https://localhost:8080/"
        },
        "id": "fTp_Ze1KU55h",
        "outputId": "ce726300-72d4-471c-c46f-7dd993f26938"
      },
      "execution_count": 42,
      "outputs": [
        {
          "output_type": "stream",
          "name": "stdout",
          "text": [
            "<class 'pandas.core.frame.DataFrame'>\n",
            "RangeIndex: 2133 entries, 0 to 2132\n",
            "Data columns (total 11 columns):\n",
            " #   Column           Non-Null Count  Dtype  \n",
            "---  ------           --------------  -----  \n",
            " 0   school           2133 non-null   object \n",
            " 1   school_setting   2133 non-null   object \n",
            " 2   school_type      2133 non-null   object \n",
            " 3   classroom        2133 non-null   object \n",
            " 4   teaching_method  2133 non-null   object \n",
            " 5   n_student        2133 non-null   float64\n",
            " 6   student_id       2133 non-null   object \n",
            " 7   gender           2133 non-null   object \n",
            " 8   lunch            2133 non-null   object \n",
            " 9   pretest          2133 non-null   float64\n",
            " 10  posttest         2133 non-null   float64\n",
            "dtypes: float64(3), object(8)\n",
            "memory usage: 183.4+ KB\n"
          ]
        }
      ]
    },
    {
      "cell_type": "code",
      "source": [
        "plt.figure(figsize=(9,3),dpi=150)\n",
        "df.isnull().sum()"
      ],
      "metadata": {
        "colab": {
          "base_uri": "https://localhost:8080/",
          "height": 243
        },
        "id": "xXkiU92HVD6m",
        "outputId": "99012036-6c8d-4c2c-d2e4-7644d5b4ef5f"
      },
      "execution_count": 43,
      "outputs": [
        {
          "output_type": "execute_result",
          "data": {
            "text/plain": [
              "school             0\n",
              "school_setting     0\n",
              "school_type        0\n",
              "classroom          0\n",
              "teaching_method    0\n",
              "n_student          0\n",
              "student_id         0\n",
              "gender             0\n",
              "lunch              0\n",
              "pretest            0\n",
              "posttest           0\n",
              "dtype: int64"
            ]
          },
          "metadata": {},
          "execution_count": 43
        },
        {
          "output_type": "display_data",
          "data": {
            "text/plain": [
              "<Figure size 1350x450 with 0 Axes>"
            ]
          },
          "metadata": {}
        }
      ]
    },
    {
      "cell_type": "code",
      "source": [
        "del df['classroom']\n",
        "del df['student_id']\n",
        "del df['gender']\n",
        "df['school'] = df['school'].replace('ANKYI', 0)\n",
        "df['school'] = df['school'].replace('CCAAW', 1)\n",
        "df['school'] = df['school'].replace('CIMBB', 2)\n",
        "df['school'] = df['school'].replace('CUQAM', 3)\n",
        "df['school'] = df['school'].replace('DNQDD', 4)\n",
        "df['school'] = df['school'].replace('FBUMG', 5)\n",
        "df['school'] = df['school'].replace('GJJHK', 6)\n",
        "df['school'] = df['school'].replace('GOKXL', 7)\n",
        "df['school'] = df['school'].replace('GOOBU', 8)\n",
        "df['school'] = df['school'].replace('IDGFP', 9)\n",
        "df['school'] = df['school'].replace('KFZMY', 10)\n",
        "df['school'] = df['school'].replace('KZKKE', 11)\n",
        "df['school'] = df['school'].replace('LAYPA', 12)\n",
        "df['school'] = df['school'].replace('OJOBU', 13)\n",
        "df['school'] = df['school'].replace('QOQTS', 14)\n",
        "df['school'] = df['school'].replace('UAGPU', 15)\n",
        "df['school'] = df['school'].replace('UKPGS', 16)\n",
        "df['school'] = df['school'].replace('UUUQX', 17)\n",
        "df['school'] = df['school'].replace('VHDHF', 18)\n",
        "df['school'] = df['school'].replace('VKWQH', 19)\n",
        "df['school'] = df['school'].replace('VVTVA', 20)\n",
        "df['school'] = df['school'].replace('ZMNYA', 21)\n",
        "df['school'] = df['school'].replace('ZOWMK', 22)\n",
        "df['school_setting'] = df['school_setting'].replace('Urban', 0)\n",
        "df['school_setting'] = df['school_setting'].replace('Suburban', 1)\n",
        "df['school_setting'] = df['school_setting'].replace('Rural', 2)\n",
        "df['school_type'] = df['school_type'].replace('Non-public', 0)\n",
        "df['school_type'] = df['school_type'].replace('Public', 1)\n",
        "df['lunch'] = df['lunch'].replace('Does not qualify', 0)\n",
        "df['lunch'] = df['lunch'].replace('Qualifies for reduced/free lunch', 1)\n",
        "df['teaching_method'] = df['teaching_method'].replace('Standard', 0)\n",
        "df['teaching_method'] = df['teaching_method'].replace('Experimental', 1)"
      ],
      "metadata": {
        "id": "bVpKUuhBz3qG"
      },
      "execution_count": 44,
      "outputs": []
    },
    {
      "cell_type": "code",
      "source": [
        "df.head()"
      ],
      "metadata": {
        "colab": {
          "base_uri": "https://localhost:8080/",
          "height": 206
        },
        "id": "98PnI5Bp1aHZ",
        "outputId": "25f79007-139e-4b09-ccf3-bf821a567704"
      },
      "execution_count": 45,
      "outputs": [
        {
          "output_type": "execute_result",
          "data": {
            "text/plain": [
              "   school  school_setting  school_type  teaching_method  n_student  lunch  \\\n",
              "0       0               0            0                0       20.0      0   \n",
              "1       0               0            0                0       20.0      0   \n",
              "2       0               0            0                0       20.0      0   \n",
              "3       0               0            0                0       20.0      0   \n",
              "4       0               0            0                0       20.0      0   \n",
              "\n",
              "   pretest  posttest  \n",
              "0     62.0      72.0  \n",
              "1     66.0      79.0  \n",
              "2     64.0      76.0  \n",
              "3     61.0      77.0  \n",
              "4     64.0      76.0  "
            ],
            "text/html": [
              "\n",
              "  <div id=\"df-2fb12ab2-ac73-47a4-b2e6-cf379e9cf65f\">\n",
              "    <div class=\"colab-df-container\">\n",
              "      <div>\n",
              "<style scoped>\n",
              "    .dataframe tbody tr th:only-of-type {\n",
              "        vertical-align: middle;\n",
              "    }\n",
              "\n",
              "    .dataframe tbody tr th {\n",
              "        vertical-align: top;\n",
              "    }\n",
              "\n",
              "    .dataframe thead th {\n",
              "        text-align: right;\n",
              "    }\n",
              "</style>\n",
              "<table border=\"1\" class=\"dataframe\">\n",
              "  <thead>\n",
              "    <tr style=\"text-align: right;\">\n",
              "      <th></th>\n",
              "      <th>school</th>\n",
              "      <th>school_setting</th>\n",
              "      <th>school_type</th>\n",
              "      <th>teaching_method</th>\n",
              "      <th>n_student</th>\n",
              "      <th>lunch</th>\n",
              "      <th>pretest</th>\n",
              "      <th>posttest</th>\n",
              "    </tr>\n",
              "  </thead>\n",
              "  <tbody>\n",
              "    <tr>\n",
              "      <th>0</th>\n",
              "      <td>0</td>\n",
              "      <td>0</td>\n",
              "      <td>0</td>\n",
              "      <td>0</td>\n",
              "      <td>20.0</td>\n",
              "      <td>0</td>\n",
              "      <td>62.0</td>\n",
              "      <td>72.0</td>\n",
              "    </tr>\n",
              "    <tr>\n",
              "      <th>1</th>\n",
              "      <td>0</td>\n",
              "      <td>0</td>\n",
              "      <td>0</td>\n",
              "      <td>0</td>\n",
              "      <td>20.0</td>\n",
              "      <td>0</td>\n",
              "      <td>66.0</td>\n",
              "      <td>79.0</td>\n",
              "    </tr>\n",
              "    <tr>\n",
              "      <th>2</th>\n",
              "      <td>0</td>\n",
              "      <td>0</td>\n",
              "      <td>0</td>\n",
              "      <td>0</td>\n",
              "      <td>20.0</td>\n",
              "      <td>0</td>\n",
              "      <td>64.0</td>\n",
              "      <td>76.0</td>\n",
              "    </tr>\n",
              "    <tr>\n",
              "      <th>3</th>\n",
              "      <td>0</td>\n",
              "      <td>0</td>\n",
              "      <td>0</td>\n",
              "      <td>0</td>\n",
              "      <td>20.0</td>\n",
              "      <td>0</td>\n",
              "      <td>61.0</td>\n",
              "      <td>77.0</td>\n",
              "    </tr>\n",
              "    <tr>\n",
              "      <th>4</th>\n",
              "      <td>0</td>\n",
              "      <td>0</td>\n",
              "      <td>0</td>\n",
              "      <td>0</td>\n",
              "      <td>20.0</td>\n",
              "      <td>0</td>\n",
              "      <td>64.0</td>\n",
              "      <td>76.0</td>\n",
              "    </tr>\n",
              "  </tbody>\n",
              "</table>\n",
              "</div>\n",
              "      <button class=\"colab-df-convert\" onclick=\"convertToInteractive('df-2fb12ab2-ac73-47a4-b2e6-cf379e9cf65f')\"\n",
              "              title=\"Convert this dataframe to an interactive table.\"\n",
              "              style=\"display:none;\">\n",
              "        \n",
              "  <svg xmlns=\"http://www.w3.org/2000/svg\" height=\"24px\"viewBox=\"0 0 24 24\"\n",
              "       width=\"24px\">\n",
              "    <path d=\"M0 0h24v24H0V0z\" fill=\"none\"/>\n",
              "    <path d=\"M18.56 5.44l.94 2.06.94-2.06 2.06-.94-2.06-.94-.94-2.06-.94 2.06-2.06.94zm-11 1L8.5 8.5l.94-2.06 2.06-.94-2.06-.94L8.5 2.5l-.94 2.06-2.06.94zm10 10l.94 2.06.94-2.06 2.06-.94-2.06-.94-.94-2.06-.94 2.06-2.06.94z\"/><path d=\"M17.41 7.96l-1.37-1.37c-.4-.4-.92-.59-1.43-.59-.52 0-1.04.2-1.43.59L10.3 9.45l-7.72 7.72c-.78.78-.78 2.05 0 2.83L4 21.41c.39.39.9.59 1.41.59.51 0 1.02-.2 1.41-.59l7.78-7.78 2.81-2.81c.8-.78.8-2.07 0-2.86zM5.41 20L4 18.59l7.72-7.72 1.47 1.35L5.41 20z\"/>\n",
              "  </svg>\n",
              "      </button>\n",
              "      \n",
              "  <style>\n",
              "    .colab-df-container {\n",
              "      display:flex;\n",
              "      flex-wrap:wrap;\n",
              "      gap: 12px;\n",
              "    }\n",
              "\n",
              "    .colab-df-convert {\n",
              "      background-color: #E8F0FE;\n",
              "      border: none;\n",
              "      border-radius: 50%;\n",
              "      cursor: pointer;\n",
              "      display: none;\n",
              "      fill: #1967D2;\n",
              "      height: 32px;\n",
              "      padding: 0 0 0 0;\n",
              "      width: 32px;\n",
              "    }\n",
              "\n",
              "    .colab-df-convert:hover {\n",
              "      background-color: #E2EBFA;\n",
              "      box-shadow: 0px 1px 2px rgba(60, 64, 67, 0.3), 0px 1px 3px 1px rgba(60, 64, 67, 0.15);\n",
              "      fill: #174EA6;\n",
              "    }\n",
              "\n",
              "    [theme=dark] .colab-df-convert {\n",
              "      background-color: #3B4455;\n",
              "      fill: #D2E3FC;\n",
              "    }\n",
              "\n",
              "    [theme=dark] .colab-df-convert:hover {\n",
              "      background-color: #434B5C;\n",
              "      box-shadow: 0px 1px 3px 1px rgba(0, 0, 0, 0.15);\n",
              "      filter: drop-shadow(0px 1px 2px rgba(0, 0, 0, 0.3));\n",
              "      fill: #FFFFFF;\n",
              "    }\n",
              "  </style>\n",
              "\n",
              "      <script>\n",
              "        const buttonEl =\n",
              "          document.querySelector('#df-2fb12ab2-ac73-47a4-b2e6-cf379e9cf65f button.colab-df-convert');\n",
              "        buttonEl.style.display =\n",
              "          google.colab.kernel.accessAllowed ? 'block' : 'none';\n",
              "\n",
              "        async function convertToInteractive(key) {\n",
              "          const element = document.querySelector('#df-2fb12ab2-ac73-47a4-b2e6-cf379e9cf65f');\n",
              "          const dataTable =\n",
              "            await google.colab.kernel.invokeFunction('convertToInteractive',\n",
              "                                                     [key], {});\n",
              "          if (!dataTable) return;\n",
              "\n",
              "          const docLinkHtml = 'Like what you see? Visit the ' +\n",
              "            '<a target=\"_blank\" href=https://colab.research.google.com/notebooks/data_table.ipynb>data table notebook</a>'\n",
              "            + ' to learn more about interactive tables.';\n",
              "          element.innerHTML = '';\n",
              "          dataTable['output_type'] = 'display_data';\n",
              "          await google.colab.output.renderOutput(dataTable, element);\n",
              "          const docLink = document.createElement('div');\n",
              "          docLink.innerHTML = docLinkHtml;\n",
              "          element.appendChild(docLink);\n",
              "        }\n",
              "      </script>\n",
              "    </div>\n",
              "  </div>\n",
              "  "
            ]
          },
          "metadata": {},
          "execution_count": 45
        }
      ]
    },
    {
      "cell_type": "code",
      "source": [
        "df.describe()"
      ],
      "metadata": {
        "colab": {
          "base_uri": "https://localhost:8080/",
          "height": 300
        },
        "id": "vO-y_AIL1gBo",
        "outputId": "d0e7ba4f-afd7-4280-aa48-0387a61b65de"
      },
      "execution_count": 46,
      "outputs": [
        {
          "output_type": "execute_result",
          "data": {
            "text/plain": [
              "            school  school_setting  school_type  teaching_method    n_student  \\\n",
              "count  2133.000000     2133.000000  2133.000000      2133.000000  2133.000000   \n",
              "mean     11.264885        0.814346     0.741678         0.356306    22.796531   \n",
              "std       6.516660        0.793525     0.437814         0.479019     4.228893   \n",
              "min       0.000000        0.000000     0.000000         0.000000    14.000000   \n",
              "25%       6.000000        0.000000     0.000000         0.000000    20.000000   \n",
              "50%      11.000000        1.000000     1.000000         0.000000    22.000000   \n",
              "75%      17.000000        1.000000     1.000000         1.000000    27.000000   \n",
              "max      22.000000        2.000000     1.000000         1.000000    31.000000   \n",
              "\n",
              "             lunch      pretest     posttest  \n",
              "count  2133.000000  2133.000000  2133.000000  \n",
              "mean      0.430380    54.955931    67.102203  \n",
              "std       0.495245    13.563101    13.986789  \n",
              "min       0.000000    22.000000    32.000000  \n",
              "25%       0.000000    44.000000    56.000000  \n",
              "50%       0.000000    56.000000    68.000000  \n",
              "75%       1.000000    65.000000    77.000000  \n",
              "max       1.000000    93.000000   100.000000  "
            ],
            "text/html": [
              "\n",
              "  <div id=\"df-0938cd75-1368-4edd-bd4a-984ffac1823a\">\n",
              "    <div class=\"colab-df-container\">\n",
              "      <div>\n",
              "<style scoped>\n",
              "    .dataframe tbody tr th:only-of-type {\n",
              "        vertical-align: middle;\n",
              "    }\n",
              "\n",
              "    .dataframe tbody tr th {\n",
              "        vertical-align: top;\n",
              "    }\n",
              "\n",
              "    .dataframe thead th {\n",
              "        text-align: right;\n",
              "    }\n",
              "</style>\n",
              "<table border=\"1\" class=\"dataframe\">\n",
              "  <thead>\n",
              "    <tr style=\"text-align: right;\">\n",
              "      <th></th>\n",
              "      <th>school</th>\n",
              "      <th>school_setting</th>\n",
              "      <th>school_type</th>\n",
              "      <th>teaching_method</th>\n",
              "      <th>n_student</th>\n",
              "      <th>lunch</th>\n",
              "      <th>pretest</th>\n",
              "      <th>posttest</th>\n",
              "    </tr>\n",
              "  </thead>\n",
              "  <tbody>\n",
              "    <tr>\n",
              "      <th>count</th>\n",
              "      <td>2133.000000</td>\n",
              "      <td>2133.000000</td>\n",
              "      <td>2133.000000</td>\n",
              "      <td>2133.000000</td>\n",
              "      <td>2133.000000</td>\n",
              "      <td>2133.000000</td>\n",
              "      <td>2133.000000</td>\n",
              "      <td>2133.000000</td>\n",
              "    </tr>\n",
              "    <tr>\n",
              "      <th>mean</th>\n",
              "      <td>11.264885</td>\n",
              "      <td>0.814346</td>\n",
              "      <td>0.741678</td>\n",
              "      <td>0.356306</td>\n",
              "      <td>22.796531</td>\n",
              "      <td>0.430380</td>\n",
              "      <td>54.955931</td>\n",
              "      <td>67.102203</td>\n",
              "    </tr>\n",
              "    <tr>\n",
              "      <th>std</th>\n",
              "      <td>6.516660</td>\n",
              "      <td>0.793525</td>\n",
              "      <td>0.437814</td>\n",
              "      <td>0.479019</td>\n",
              "      <td>4.228893</td>\n",
              "      <td>0.495245</td>\n",
              "      <td>13.563101</td>\n",
              "      <td>13.986789</td>\n",
              "    </tr>\n",
              "    <tr>\n",
              "      <th>min</th>\n",
              "      <td>0.000000</td>\n",
              "      <td>0.000000</td>\n",
              "      <td>0.000000</td>\n",
              "      <td>0.000000</td>\n",
              "      <td>14.000000</td>\n",
              "      <td>0.000000</td>\n",
              "      <td>22.000000</td>\n",
              "      <td>32.000000</td>\n",
              "    </tr>\n",
              "    <tr>\n",
              "      <th>25%</th>\n",
              "      <td>6.000000</td>\n",
              "      <td>0.000000</td>\n",
              "      <td>0.000000</td>\n",
              "      <td>0.000000</td>\n",
              "      <td>20.000000</td>\n",
              "      <td>0.000000</td>\n",
              "      <td>44.000000</td>\n",
              "      <td>56.000000</td>\n",
              "    </tr>\n",
              "    <tr>\n",
              "      <th>50%</th>\n",
              "      <td>11.000000</td>\n",
              "      <td>1.000000</td>\n",
              "      <td>1.000000</td>\n",
              "      <td>0.000000</td>\n",
              "      <td>22.000000</td>\n",
              "      <td>0.000000</td>\n",
              "      <td>56.000000</td>\n",
              "      <td>68.000000</td>\n",
              "    </tr>\n",
              "    <tr>\n",
              "      <th>75%</th>\n",
              "      <td>17.000000</td>\n",
              "      <td>1.000000</td>\n",
              "      <td>1.000000</td>\n",
              "      <td>1.000000</td>\n",
              "      <td>27.000000</td>\n",
              "      <td>1.000000</td>\n",
              "      <td>65.000000</td>\n",
              "      <td>77.000000</td>\n",
              "    </tr>\n",
              "    <tr>\n",
              "      <th>max</th>\n",
              "      <td>22.000000</td>\n",
              "      <td>2.000000</td>\n",
              "      <td>1.000000</td>\n",
              "      <td>1.000000</td>\n",
              "      <td>31.000000</td>\n",
              "      <td>1.000000</td>\n",
              "      <td>93.000000</td>\n",
              "      <td>100.000000</td>\n",
              "    </tr>\n",
              "  </tbody>\n",
              "</table>\n",
              "</div>\n",
              "      <button class=\"colab-df-convert\" onclick=\"convertToInteractive('df-0938cd75-1368-4edd-bd4a-984ffac1823a')\"\n",
              "              title=\"Convert this dataframe to an interactive table.\"\n",
              "              style=\"display:none;\">\n",
              "        \n",
              "  <svg xmlns=\"http://www.w3.org/2000/svg\" height=\"24px\"viewBox=\"0 0 24 24\"\n",
              "       width=\"24px\">\n",
              "    <path d=\"M0 0h24v24H0V0z\" fill=\"none\"/>\n",
              "    <path d=\"M18.56 5.44l.94 2.06.94-2.06 2.06-.94-2.06-.94-.94-2.06-.94 2.06-2.06.94zm-11 1L8.5 8.5l.94-2.06 2.06-.94-2.06-.94L8.5 2.5l-.94 2.06-2.06.94zm10 10l.94 2.06.94-2.06 2.06-.94-2.06-.94-.94-2.06-.94 2.06-2.06.94z\"/><path d=\"M17.41 7.96l-1.37-1.37c-.4-.4-.92-.59-1.43-.59-.52 0-1.04.2-1.43.59L10.3 9.45l-7.72 7.72c-.78.78-.78 2.05 0 2.83L4 21.41c.39.39.9.59 1.41.59.51 0 1.02-.2 1.41-.59l7.78-7.78 2.81-2.81c.8-.78.8-2.07 0-2.86zM5.41 20L4 18.59l7.72-7.72 1.47 1.35L5.41 20z\"/>\n",
              "  </svg>\n",
              "      </button>\n",
              "      \n",
              "  <style>\n",
              "    .colab-df-container {\n",
              "      display:flex;\n",
              "      flex-wrap:wrap;\n",
              "      gap: 12px;\n",
              "    }\n",
              "\n",
              "    .colab-df-convert {\n",
              "      background-color: #E8F0FE;\n",
              "      border: none;\n",
              "      border-radius: 50%;\n",
              "      cursor: pointer;\n",
              "      display: none;\n",
              "      fill: #1967D2;\n",
              "      height: 32px;\n",
              "      padding: 0 0 0 0;\n",
              "      width: 32px;\n",
              "    }\n",
              "\n",
              "    .colab-df-convert:hover {\n",
              "      background-color: #E2EBFA;\n",
              "      box-shadow: 0px 1px 2px rgba(60, 64, 67, 0.3), 0px 1px 3px 1px rgba(60, 64, 67, 0.15);\n",
              "      fill: #174EA6;\n",
              "    }\n",
              "\n",
              "    [theme=dark] .colab-df-convert {\n",
              "      background-color: #3B4455;\n",
              "      fill: #D2E3FC;\n",
              "    }\n",
              "\n",
              "    [theme=dark] .colab-df-convert:hover {\n",
              "      background-color: #434B5C;\n",
              "      box-shadow: 0px 1px 3px 1px rgba(0, 0, 0, 0.15);\n",
              "      filter: drop-shadow(0px 1px 2px rgba(0, 0, 0, 0.3));\n",
              "      fill: #FFFFFF;\n",
              "    }\n",
              "  </style>\n",
              "\n",
              "      <script>\n",
              "        const buttonEl =\n",
              "          document.querySelector('#df-0938cd75-1368-4edd-bd4a-984ffac1823a button.colab-df-convert');\n",
              "        buttonEl.style.display =\n",
              "          google.colab.kernel.accessAllowed ? 'block' : 'none';\n",
              "\n",
              "        async function convertToInteractive(key) {\n",
              "          const element = document.querySelector('#df-0938cd75-1368-4edd-bd4a-984ffac1823a');\n",
              "          const dataTable =\n",
              "            await google.colab.kernel.invokeFunction('convertToInteractive',\n",
              "                                                     [key], {});\n",
              "          if (!dataTable) return;\n",
              "\n",
              "          const docLinkHtml = 'Like what you see? Visit the ' +\n",
              "            '<a target=\"_blank\" href=https://colab.research.google.com/notebooks/data_table.ipynb>data table notebook</a>'\n",
              "            + ' to learn more about interactive tables.';\n",
              "          element.innerHTML = '';\n",
              "          dataTable['output_type'] = 'display_data';\n",
              "          await google.colab.output.renderOutput(dataTable, element);\n",
              "          const docLink = document.createElement('div');\n",
              "          docLink.innerHTML = docLinkHtml;\n",
              "          element.appendChild(docLink);\n",
              "        }\n",
              "      </script>\n",
              "    </div>\n",
              "  </div>\n",
              "  "
            ]
          },
          "metadata": {},
          "execution_count": 46
        }
      ]
    },
    {
      "cell_type": "code",
      "source": [
        "sns.countplot(x='posttest', data=df)"
      ],
      "metadata": {
        "colab": {
          "base_uri": "https://localhost:8080/",
          "height": 296
        },
        "id": "XIoKGRkscIBC",
        "outputId": "2b5209b7-f73a-42d5-a766-9e7712fd542c"
      },
      "execution_count": 47,
      "outputs": [
        {
          "output_type": "execute_result",
          "data": {
            "text/plain": [
              "<matplotlib.axes._subplots.AxesSubplot at 0x7f0ca60d0a10>"
            ]
          },
          "metadata": {},
          "execution_count": 47
        },
        {
          "output_type": "display_data",
          "data": {
            "text/plain": [
              "<Figure size 432x288 with 1 Axes>"
            ],
            "image/png": "[encoded data removed]"
          },
          "metadata": {
            "needs_background": "light"
          }
        }
      ]
    },
    {
      "cell_type": "code",
      "source": [
        "for column in ['school', 'school_setting', 'school_type', 'teaching_method', 'n_student', 'lunch', 'pretest']:\n",
        "    sns.countplot(x=column, data=df)\n",
        "    plt.show()\n",
        "    sns.barplot(x=column, y='posttest', data=df)\n",
        "    plt.show()"
      ],
      "metadata": {
        "colab": {
          "base_uri": "https://localhost:8080/",
          "height": 1000
        },
        "id": "pLiwRl8ef3-4",
        "outputId": "41645d9d-f539-4fdb-e4ec-853c0a22b9f5"
      },
      "execution_count": 48,
      "outputs": [
        {
          "output_type": "display_data",
          "data": {
            "text/plain": [
              "<Figure size 432x288 with 1 Axes>"
            ],
            "image/png": "[encoded data removed]"
          },
          "metadata": {
            "needs_background": "light"
          }
        },
        {
          "output_type": "display_data",
          "data": {
            "text/plain": [
              "<Figure size 432x288 with 1 Axes>"
            ],
            "image/png": "[encoded data removed]"
          },
          "metadata": {
            "needs_background": "light"
          }
        },
        {
          "output_type": "display_data",
          "data": {
            "text/plain": [
              "<Figure size 432x288 with 1 Axes>"
            ],
            "image/png": "[encoded data removed]"
          },
          "metadata": {
            "needs_background": "light"
          }
        },
        {
          "output_type": "display_data",
          "data": {
            "text/plain": [
              "<Figure size 432x288 with 1 Axes>"
            ],
            "image/png": "[encoded data removed]"
          },
          "metadata": {
            "needs_background": "light"
          }
        },
        {
          "output_type": "display_data",
          "data": {
            "text/plain": [
              "<Figure size 432x288 with 1 Axes>"
            ],
            "image/png": "[encoded data removed]"
          },
          "metadata": {
            "needs_background": "light"
          }
        },
        {
          "output_type": "display_data",
          "data": {
            "text/plain": [
              "<Figure size 432x288 with 1 Axes>"
            ],
            "image/png": "[encoded data removed]"
          },
          "metadata": {
            "needs_background": "light"
          }
        },
        {
          "output_type": "display_data",
          "data": {
            "text/plain": [
              "<Figure size 432x288 with 1 Axes>"
            ],
            "image/png": "[encoded data removed]"
          },
          "metadata": {
            "needs_background": "light"
          }
        },
        {
          "output_type": "display_data",
          "data": {
            "text/plain": [
              "<Figure size 432x288 with 1 Axes>"
            ],
            "image/png": "[encoded data removed]"
          },
          "metadata": {
            "needs_background": "light"
          }
        },
        {
          "output_type": "display_data",
          "data": {
            "text/plain": [
              "<Figure size 432x288 with 1 Axes>"
            ],
            "image/png": "[encoded data removed]"
          },
          "metadata": {
            "needs_background": "light"
          }
        },
        {
          "output_type": "display_data",
          "data": {
            "text/plain": [
              "<Figure size 432x288 with 1 Axes>"
            ],
            "image/png": "[encoded data removed]"
          },
          "metadata": {
            "needs_background": "light"
          }
        },
        {
          "output_type": "display_data",
          "data": {
            "text/plain": [
              "<Figure size 432x288 with 1 Axes>"
            ],
            "image/png": "[encoded data removed]"
          },
          "metadata": {
            "needs_background": "light"
          }
        },
        {
          "output_type": "display_data",
          "data": {
            "text/plain": [
              "<Figure size 432x288 with 1 Axes>"
            ],
            "image/png": "[encoded data removed]"
          },
          "metadata": {
            "needs_background": "light"
          }
        },
        {
          "output_type": "display_data",
          "data": {
            "text/plain": [
              "<Figure size 432x288 with 1 Axes>"
            ],
            "image/png": "[encoded data removed]"
          },
          "metadata": {
            "needs_background": "light"
          }
        },
        {
          "output_type": "display_data",
          "data": {
            "text/plain": [
              "<Figure size 432x288 with 1 Axes>"
            ],
            "image/png": "[encoded data removed]"
          },
          "metadata": {
            "needs_background": "light"
          }
        }
      ]
    },
    {
      "cell_type": "markdown",
      "source": [
        "# **Modelowanie danych**"
      ],
      "metadata": {
        "id": "5ERDa010ekoi"
      }
    },
    {
      "cell_type": "code",
      "source": [
        "from sklearn.model_selection import train_test_split\n",
        "from sklearn.preprocessing import StandardScaler\n",
        "X = df.drop('posttest', axis=1)\n",
        "y = df.posttest\n",
        "scaler=StandardScaler()\n",
        "X_scaled=scaler.fit_transform(X)\n",
        "X = X_scaled"
      ],
      "metadata": {
        "id": "r3NzBIitnbiJ"
      },
      "execution_count": 159,
      "outputs": []
    },
    {
      "cell_type": "code",
      "source": [
        "X_train, X_test, y_train, y_test = train_test_split(X, y, test_size=0.2)"
      ],
      "metadata": {
        "id": "ls0Gr4nwgWJt"
      },
      "execution_count": 160,
      "outputs": []
    },
    {
      "cell_type": "code",
      "source": [
        "from sklearn.model_selection import GridSearchCV\n",
        "from sklearn.preprocessing import StandardScaler\n",
        "from sklearn.pipeline import Pipeline\n",
        "from sklearn.svm import SVC\n",
        "from sklearn.linear_model import LogisticRegression\n",
        "from sklearn.tree import DecisionTreeClassifier\n",
        "from sklearn.ensemble import RandomForestClassifier, AdaBoostClassifier, GradientBoostingClassifier\n",
        "from sklearn.model_selection import StratifiedKFold\n",
        "seed=123\n",
        "kfold = StratifiedKFold(n_splits=5, shuffle = True, random_state=seed)"
      ],
      "metadata": {
        "id": "AnxT1a4qoCa5"
      },
      "execution_count": 51,
      "outputs": []
    },
    {
      "cell_type": "markdown",
      "source": [
        "**Logistic Regression**"
      ],
      "metadata": {
        "id": "noBKUmjlgO7A"
      }
    },
    {
      "cell_type": "code",
      "source": [
        "pipeline_1 = Pipeline([('preprocessing', StandardScaler()), ('classifier', LogisticRegression(n_jobs=-1))])\n",
        "param_grid_1 = {\n",
        "            'preprocessing': [StandardScaler()],\n",
        "            'classifier__C': [0.001, 0.01, 0.1, 1, 10, 100]\n",
        "}\n",
        "grid_1 = GridSearchCV(pipeline_1, param_grid_1, cv=kfold, return_train_score=True) \n",
        "grid_1.fit(X_train, y_train)\n",
        "grid_1.best_params_"
      ],
      "metadata": {
        "colab": {
          "base_uri": "https://localhost:8080/"
        },
        "id": "hKI-Aw5IoGO4",
        "outputId": "d2104bf5-210d-4903-afae-2656d727d737"
      },
      "execution_count": 52,
      "outputs": [
        {
          "output_type": "stream",
          "name": "stderr",
          "text": [
            "/usr/local/lib/python3.7/dist-packages/sklearn/model_selection/_split.py:680: UserWarning: The least populated class in y has only 1 members, which is less than n_splits=5.\n",
            "  UserWarning,\n"
          ]
        },
        {
          "output_type": "execute_result",
          "data": {
            "text/plain": [
              "{'classifier__C': 100, 'preprocessing': StandardScaler()}"
            ]
          },
          "metadata": {},
          "execution_count": 52
        }
      ]
    },
    {
      "cell_type": "markdown",
      "source": [
        "**KNeighborsClassifier**"
      ],
      "metadata": {
        "id": "jUG8tB_ZgR_X"
      }
    },
    {
      "cell_type": "code",
      "source": [
        "from sklearn.neighbors import KNeighborsClassifier\n",
        "pipeline_2 = Pipeline([('preprocessing', StandardScaler()), ('classifier', KNeighborsClassifier())])\n",
        "param_grid2 = {\n",
        "            'preprocessing': [StandardScaler()],\n",
        "            'classifier__n_neighbors': [1, 2, 4, 6],\n",
        "            'classifier__p': [1, 2, 4, 6],\n",
        "}\n",
        "grid_2 = GridSearchCV(pipeline_2, param_grid2, cv=kfold, return_train_score=True)\n",
        "grid_2.fit(X_train, y_train)\n",
        "grid_2.best_params_"
      ],
      "metadata": {
        "colab": {
          "base_uri": "https://localhost:8080/"
        },
        "id": "0rbYc0myqtUG",
        "outputId": "15653356-3d45-47dd-f4f8-371c4f09519a"
      },
      "execution_count": 61,
      "outputs": [
        {
          "output_type": "stream",
          "name": "stderr",
          "text": [
            "/usr/local/lib/python3.7/dist-packages/sklearn/model_selection/_split.py:680: UserWarning: The least populated class in y has only 1 members, which is less than n_splits=5.\n",
            "  UserWarning,\n"
          ]
        },
        {
          "output_type": "execute_result",
          "data": {
            "text/plain": [
              "{'classifier__n_neighbors': 2,\n",
              " 'classifier__p': 4,\n",
              " 'preprocessing': StandardScaler()}"
            ]
          },
          "metadata": {},
          "execution_count": 61
        }
      ]
    },
    {
      "cell_type": "markdown",
      "source": [
        "**SVC Linear**"
      ],
      "metadata": {
        "id": "4-YJU5logma6"
      }
    },
    {
      "cell_type": "code",
      "source": [
        "pipeline3 = Pipeline([('preprocessing', StandardScaler()), ('classifier', SVC(kernel='linear', probability=True))])\n",
        "param_grid_3 = {\n",
        "            'preprocessing': [StandardScaler()],\n",
        "            'classifier__C': [0.001, 0.01, 0.1, 1, 10, 100]\n",
        "}\n",
        "grid_3 = GridSearchCV(pipeline3, param_grid_3, cv=kfold, return_train_score=True)\n",
        "grid_3.fit(X_train, y_train)\n",
        "grid_3.best_params_"
      ],
      "metadata": {
        "colab": {
          "base_uri": "https://localhost:8080/"
        },
        "id": "PIWJ_e1x4qYY",
        "outputId": "9aae893a-9ca8-4ec2-98be-fd17ed83aa67"
      },
      "execution_count": 53,
      "outputs": [
        {
          "output_type": "stream",
          "name": "stderr",
          "text": [
            "/usr/local/lib/python3.7/dist-packages/sklearn/model_selection/_split.py:680: UserWarning: The least populated class in y has only 1 members, which is less than n_splits=5.\n",
            "  UserWarning,\n"
          ]
        },
        {
          "output_type": "execute_result",
          "data": {
            "text/plain": [
              "{'classifier__C': 10, 'preprocessing': StandardScaler()}"
            ]
          },
          "metadata": {},
          "execution_count": 53
        }
      ]
    },
    {
      "cell_type": "markdown",
      "source": [
        "**SVC Rbf**"
      ],
      "metadata": {
        "id": "f1e_zZtPgqj0"
      }
    },
    {
      "cell_type": "code",
      "source": [
        "pipeline_4 = Pipeline([('preprocessing', StandardScaler()), ('classifier', SVC(kernel='rbf', probability=True))])\n",
        "param_grid_4 = {\n",
        "            'preprocessing': [StandardScaler()],\n",
        "            'classifier__gamma': [ 0.001, 0.01, 0.1, 1, 10, 100],\n",
        "            'classifier__C': [0.001, 0.01, 0.1, 1, 10, 100]\n",
        "}\n",
        "grid_4 = GridSearchCV(pipeline_4, param_grid_4, cv=kfold, return_train_score=True)\n",
        "grid_4.fit(X_train, y_train)\n",
        "grid_4.best_params_"
      ],
      "metadata": {
        "colab": {
          "base_uri": "https://localhost:8080/"
        },
        "id": "t4aRkvLKCL7N",
        "outputId": "6f37c823-8975-4a36-df7f-eedae8ae8e18"
      },
      "execution_count": 58,
      "outputs": [
        {
          "output_type": "stream",
          "name": "stderr",
          "text": [
            "/usr/local/lib/python3.7/dist-packages/sklearn/model_selection/_split.py:680: UserWarning: The least populated class in y has only 1 members, which is less than n_splits=5.\n",
            "  UserWarning,\n"
          ]
        },
        {
          "output_type": "execute_result",
          "data": {
            "text/plain": [
              "{'classifier__C': 100,\n",
              " 'classifier__gamma': 0.01,\n",
              " 'preprocessing': StandardScaler()}"
            ]
          },
          "metadata": {},
          "execution_count": 58
        }
      ]
    },
    {
      "cell_type": "markdown",
      "source": [
        "**Random Forest**"
      ],
      "metadata": {
        "id": "YZRflyBKgtFD"
      }
    },
    {
      "cell_type": "code",
      "source": [
        "pipeline_5 = Pipeline([('preprocessing', StandardScaler()), ('classifier', RandomForestClassifier(n_jobs=-1))])\n",
        "param_grid_5 = {\n",
        "            'preprocessing': [StandardScaler()],\n",
        "            'classifier__n_estimators' : [1, 5, 15, 30, 50, 100],\n",
        "            'classifier__max_leaf_nodes' : [2, 4, 8, 16, 32, 64],\n",
        "}\n",
        "grid_5 = GridSearchCV(pipeline_5, param_grid_5, cv=kfold, return_train_score=True)\n",
        "grid_5.fit(X_train, y_train)\n",
        "grid_5.best_params_"
      ],
      "metadata": {
        "colab": {
          "base_uri": "https://localhost:8080/"
        },
        "id": "Hso6Mm4MCdI-",
        "outputId": "6f9021b2-e200-4532-8187-1dc404ed478d"
      },
      "execution_count": 54,
      "outputs": [
        {
          "output_type": "stream",
          "name": "stderr",
          "text": [
            "/usr/local/lib/python3.7/dist-packages/sklearn/model_selection/_split.py:680: UserWarning: The least populated class in y has only 1 members, which is less than n_splits=5.\n",
            "  UserWarning,\n"
          ]
        },
        {
          "output_type": "execute_result",
          "data": {
            "text/plain": [
              "{'classifier__max_leaf_nodes': 32,\n",
              " 'classifier__n_estimators': 50,\n",
              " 'preprocessing': StandardScaler()}"
            ]
          },
          "metadata": {},
          "execution_count": 54
        }
      ]
    },
    {
      "cell_type": "markdown",
      "source": [
        "**Decision Tree**"
      ],
      "metadata": {
        "id": "RNL5PnNhgzvs"
      }
    },
    {
      "cell_type": "code",
      "source": [
        "pipeline_6 = Pipeline([('preprocessing', StandardScaler()), ('classifier', DecisionTreeClassifier())])\n",
        "param_grid_6 = {\n",
        "            'preprocessing': [StandardScaler()],\n",
        "            'classifier__max_depth': [1, 5, 15, 30, 50, 100],\n",
        "            'classifier__max_leaf_nodes': [2, 4, 8, 16, 32, 64],\n",
        "}\n",
        "grid_6 = GridSearchCV(pipeline_6, param_grid_6, cv=kfold, return_train_score=True)\n",
        "grid_6.fit(X_train, y_train)\n",
        "grid_6.best_params_"
      ],
      "metadata": {
        "colab": {
          "base_uri": "https://localhost:8080/"
        },
        "id": "OktsEEDfEODe",
        "outputId": "92d15d38-1cfd-42a7-f920-a12ebf5f291a"
      },
      "execution_count": 55,
      "outputs": [
        {
          "output_type": "stream",
          "name": "stderr",
          "text": [
            "/usr/local/lib/python3.7/dist-packages/sklearn/model_selection/_split.py:680: UserWarning: The least populated class in y has only 1 members, which is less than n_splits=5.\n",
            "  UserWarning,\n"
          ]
        },
        {
          "output_type": "execute_result",
          "data": {
            "text/plain": [
              "{'classifier__max_depth': 5,\n",
              " 'classifier__max_leaf_nodes': 16,\n",
              " 'preprocessing': StandardScaler()}"
            ]
          },
          "metadata": {},
          "execution_count": 55
        }
      ]
    },
    {
      "cell_type": "markdown",
      "source": [
        "**Ada Boost**"
      ],
      "metadata": {
        "id": "GIBNt2dyg2Ja"
      }
    },
    {
      "cell_type": "code",
      "source": [
        "pipeline_7 = Pipeline([('preprocessing', StandardScaler()), ('classifier', AdaBoostClassifier())])\n",
        "param_grid_7 = {\n",
        "            'preprocessing': [StandardScaler()],\n",
        "            'classifier__n_estimators' : [5, 10, 50, 100, 500, 600, 700],\n",
        "            'classifier__learning_rate' : [0.001, 0.01, 0.1, 0.5, 0.7, 1],\n",
        "}\n",
        "grid_7 = GridSearchCV(pipeline_7, param_grid_7, cv=kfold, return_train_score=True)\n",
        "grid_7.fit(X_train, y_train)\n",
        "grid_7.best_params_"
      ],
      "metadata": {
        "colab": {
          "base_uri": "https://localhost:8080/"
        },
        "id": "B_slGiOcGSkC",
        "outputId": "bbbdf23b-a331-4e17-8b63-5d86b70ffcec"
      },
      "execution_count": 59,
      "outputs": [
        {
          "output_type": "stream",
          "name": "stderr",
          "text": [
            "/usr/local/lib/python3.7/dist-packages/sklearn/model_selection/_split.py:680: UserWarning: The least populated class in y has only 1 members, which is less than n_splits=5.\n",
            "  UserWarning,\n"
          ]
        },
        {
          "output_type": "execute_result",
          "data": {
            "text/plain": [
              "{'classifier__learning_rate': 1,\n",
              " 'classifier__n_estimators': 10,\n",
              " 'preprocessing': StandardScaler()}"
            ]
          },
          "metadata": {},
          "execution_count": 59
        }
      ]
    },
    {
      "cell_type": "markdown",
      "source": [
        "**Gradient Boosting**"
      ],
      "metadata": {
        "id": "0NYH-wbwg39X"
      }
    },
    {
      "cell_type": "code",
      "source": [
        "pipeline_8 = Pipeline([('preprocessing', StandardScaler()), ('classifier', GradientBoostingClassifier())])\n",
        "param_grid_8 = {\n",
        "            'preprocessing': [StandardScaler()],\n",
        "            'classifier__n_estimators' : [5, 10, 50, 100, 500],\n",
        "            'classifier__learning_rate' : [0.001, 0.01, 0.1, 0.5, 0.7, 1],\n",
        "}\n",
        "grid_8 = GridSearchCV(pipeline_8, param_grid_8, cv=kfold, return_train_score=True)\n",
        "grid_8.fit(X_train, y_train)\n",
        "grid_8.best_params_"
      ],
      "metadata": {
        "colab": {
          "base_uri": "https://localhost:8080/"
        },
        "id": "rMYrqJ0sGpAj",
        "outputId": "15855364-8bf7-470c-efda-521b25b03734"
      },
      "execution_count": 60,
      "outputs": [
        {
          "output_type": "stream",
          "name": "stderr",
          "text": [
            "/usr/local/lib/python3.7/dist-packages/sklearn/model_selection/_split.py:680: UserWarning: The least populated class in y has only 1 members, which is less than n_splits=5.\n",
            "  UserWarning,\n"
          ]
        },
        {
          "output_type": "execute_result",
          "data": {
            "text/plain": [
              "{'classifier__learning_rate': 0.1,\n",
              " 'classifier__n_estimators': 50,\n",
              " 'preprocessing': StandardScaler()}"
            ]
          },
          "metadata": {},
          "execution_count": 60
        }
      ]
    },
    {
      "cell_type": "markdown",
      "source": [
        "# **Porównywanie modeli**"
      ],
      "metadata": {
        "id": "KQayqDHGBoTF"
      }
    },
    {
      "cell_type": "code",
      "source": [
        "from sklearn import metrics\n",
        "models = []\n",
        "models.append(('Logistic regression', grid_1.best_estimator_))\n",
        "models.append(('KNeighborsClassifier', grid_2.best_estimator_))\n",
        "models.append(('SVC linear', grid_3.best_estimator_))\n",
        "models.append(('SVC rbf', grid_4.best_estimator_))\n",
        "models.append(('RandomForestClassifier', grid_5.best_estimator_))\n",
        "models.append(('DecisionTreeClassifier', grid_6.best_estimator_))\n",
        "models.append(('AdaBoostClassifier', grid_7.best_estimator_))\n",
        "models.append(('GradientBoostingClassifier', grid_8.best_estimator_))\n",
        "precision_score = []\n",
        "recall_score = []\n",
        "f1_score = []\n",
        "accuracy_score = []\n",
        "for name, model in models:\n",
        "    print(name)\n",
        "    print(\"precision_score: {}\".format(metrics.precision_score(y_test, model.predict(X_test), average='micro')))\n",
        "    print(\"recall_score: {}\".format( metrics.recall_score(y_test, model.predict(X_test), average='micro')))\n",
        "    print(\"f1_score: {}\".format( metrics.f1_score(y_test, model.predict(X_test), average='micro')))\n",
        "    print(\"accuracy_score: {}\".format( metrics.accuracy_score(y_test, model.predict(X_test))))\n",
        "    precision_score = metrics.precision_score(y_test, model.predict(X_test), average='micro')\n",
        "    recall_score = metrics.recall_score(y_test, model.predict(X_test), average='micro')\n",
        "    f1_score = metrics.f1_score(y_test, model.predict(X_test), average='micro')\n",
        "    accuracy_score = metrics.accuracy_score(y_test, model.predict(X_test))"
      ],
      "metadata": {
        "colab": {
          "base_uri": "https://localhost:8080/"
        },
        "id": "XhmNPjdNg7kE",
        "outputId": "b7eac72d-bb00-4378-b469-0bcc9e29923f"
      },
      "execution_count": 163,
      "outputs": [
        {
          "output_type": "stream",
          "name": "stdout",
          "text": [
            "Logistic regression\n",
            "precision_score: 0.1451990632318501\n",
            "recall_score: 0.1451990632318501\n",
            "f1_score: 0.1451990632318501\n",
            "accuracy_score: 0.1451990632318501\n",
            "KNeighborsClassifier\n",
            "precision_score: 0.38173302107728335\n",
            "recall_score: 0.38173302107728335\n",
            "f1_score: 0.3817330210772834\n",
            "accuracy_score: 0.38173302107728335\n",
            "SVC linear\n",
            "precision_score: 0.17330210772833723\n",
            "recall_score: 0.17330210772833723\n",
            "f1_score: 0.17330210772833723\n",
            "accuracy_score: 0.17330210772833723\n",
            "SVC rbf\n",
            "precision_score: 0.18032786885245902\n",
            "recall_score: 0.18032786885245902\n",
            "f1_score: 0.18032786885245905\n",
            "accuracy_score: 0.18032786885245902\n",
            "RandomForestClassifier\n",
            "precision_score: 0.22716627634660422\n",
            "recall_score: 0.22716627634660422\n",
            "f1_score: 0.22716627634660422\n",
            "accuracy_score: 0.22716627634660422\n",
            "DecisionTreeClassifier\n",
            "precision_score: 0.14285714285714285\n",
            "recall_score: 0.14285714285714285\n",
            "f1_score: 0.14285714285714285\n",
            "accuracy_score: 0.14285714285714285\n",
            "AdaBoostClassifier\n",
            "precision_score: 0.06791569086651054\n",
            "recall_score: 0.06791569086651054\n",
            "f1_score: 0.06791569086651054\n",
            "accuracy_score: 0.06791569086651054\n",
            "GradientBoostingClassifier\n",
            "precision_score: 0.4028103044496487\n",
            "recall_score: 0.4028103044496487\n",
            "f1_score: 0.40281030444964866\n",
            "accuracy_score: 0.4028103044496487\n"
          ]
        }
      ]
    },
    {
      "cell_type": "code",
      "source": [
        "from sklearn.metrics import plot_confusion_matrix\n",
        "fig, ax = plt.subplots(figsize=(30, 30))\n",
        "plot_confusion_matrix(grid_8, X_test, y_test, ax=ax)"
      ],
      "metadata": {
        "colab": {
          "base_uri": "https://localhost:8080/",
          "height": 1000
        },
        "id": "twc3apzjOuzp",
        "outputId": "f5c6bd44-14a2-4480-aeb2-f3c09ba51d4e"
      },
      "execution_count": 164,
      "outputs": [
        {
          "output_type": "stream",
          "name": "stderr",
          "text": [
            "/usr/local/lib/python3.7/dist-packages/sklearn/utils/deprecation.py:87: FutureWarning: Function plot_confusion_matrix is deprecated; Function `plot_confusion_matrix` is deprecated in 1.0 and will be removed in 1.2. Use one of the class methods: ConfusionMatrixDisplay.from_predictions or ConfusionMatrixDisplay.from_estimator.\n",
            "  warnings.warn(msg, category=FutureWarning)\n"
          ]
        },
        {
          "output_type": "execute_result",
          "data": {
            "text/plain": [
              "<sklearn.metrics._plot.confusion_matrix.ConfusionMatrixDisplay at 0x7f0cab3145d0>"
            ]
          },
          "metadata": {},
          "execution_count": 164
        },
        {
          "output_type": "display_data",
          "data": {
            "text/plain": [
              "<Figure size 2160x2160 with 2 Axes>"
            ],
            "image/png": "[encoded data removed]"
          },
          "metadata": {
            "needs_background": "light"
          }
        }
      ]
    },
    {
      "cell_type": "markdown",
      "source": [
        "# **Sieci neuronowe**"
      ],
      "metadata": {
        "id": "4OmcPXhETRmU"
      }
    },
    {
      "cell_type": "code",
      "source": [
        "from sklearn.neural_network import MLPClassifier"
      ],
      "metadata": {
        "id": "tOiKFCfjTUR8"
      },
      "execution_count": 64,
      "outputs": []
    },
    {
      "cell_type": "code",
      "source": [
        "pipeline_9 = Pipeline([('preprocessing', StandardScaler()), ('classifier', MLPClassifier())])\n",
        "param_grid_9 = {\n",
        "            'preprocessing': [StandardScaler()],\n",
        "            'classifier__hidden_layer_sizes': [(20,10)],\n",
        "            'classifier__learning_rate_init': [0.001, 0.01, 0.1],\n",
        "            'classifier__max_iter': [100, 500],\n",
        "            'classifier__batch_size': [8, 16, 32, 64],\n",
        "}\n",
        "grid_9 = GridSearchCV(pipeline_9, param_grid_9, cv=kfold, return_train_score=True)\n",
        "grid_9.fit(X_train, y_train)\n",
        "grid_9.best_params_"
      ],
      "metadata": {
        "colab": {
          "base_uri": "https://localhost:8080/"
        },
        "id": "RRMLfx04VAzF",
        "outputId": "e960e736-c834-4bcb-f09d-dc70d649d3c4"
      },
      "execution_count": 65,
      "outputs": [
        {
          "output_type": "stream",
          "name": "stderr",
          "text": [
            "/usr/local/lib/python3.7/dist-packages/sklearn/model_selection/_split.py:680: UserWarning: The least populated class in y has only 1 members, which is less than n_splits=5.\n",
            "  UserWarning,\n",
            "/usr/local/lib/python3.7/dist-packages/sklearn/neural_network/_multilayer_perceptron.py:696: ConvergenceWarning: Stochastic Optimizer: Maximum iterations (100) reached and the optimization hasn't converged yet.\n",
            "  ConvergenceWarning,\n",
            "/usr/local/lib/python3.7/dist-packages/sklearn/neural_network/_multilayer_perceptron.py:696: ConvergenceWarning: Stochastic Optimizer: Maximum iterations (100) reached and the optimization hasn't converged yet.\n",
            "  ConvergenceWarning,\n",
            "/usr/local/lib/python3.7/dist-packages/sklearn/neural_network/_multilayer_perceptron.py:696: ConvergenceWarning: Stochastic Optimizer: Maximum iterations (100) reached and the optimization hasn't converged yet.\n",
            "  ConvergenceWarning,\n",
            "/usr/local/lib/python3.7/dist-packages/sklearn/neural_network/_multilayer_perceptron.py:696: ConvergenceWarning: Stochastic Optimizer: Maximum iterations (100) reached and the optimization hasn't converged yet.\n",
            "  ConvergenceWarning,\n",
            "/usr/local/lib/python3.7/dist-packages/sklearn/neural_network/_multilayer_perceptron.py:696: ConvergenceWarning: Stochastic Optimizer: Maximum iterations (100) reached and the optimization hasn't converged yet.\n",
            "  ConvergenceWarning,\n",
            "/usr/local/lib/python3.7/dist-packages/sklearn/neural_network/_multilayer_perceptron.py:696: ConvergenceWarning: Stochastic Optimizer: Maximum iterations (100) reached and the optimization hasn't converged yet.\n",
            "  ConvergenceWarning,\n",
            "/usr/local/lib/python3.7/dist-packages/sklearn/neural_network/_multilayer_perceptron.py:696: ConvergenceWarning: Stochastic Optimizer: Maximum iterations (100) reached and the optimization hasn't converged yet.\n",
            "  ConvergenceWarning,\n",
            "/usr/local/lib/python3.7/dist-packages/sklearn/neural_network/_multilayer_perceptron.py:696: ConvergenceWarning: Stochastic Optimizer: Maximum iterations (100) reached and the optimization hasn't converged yet.\n",
            "  ConvergenceWarning,\n",
            "/usr/local/lib/python3.7/dist-packages/sklearn/neural_network/_multilayer_perceptron.py:696: ConvergenceWarning: Stochastic Optimizer: Maximum iterations (100) reached and the optimization hasn't converged yet.\n",
            "  ConvergenceWarning,\n",
            "/usr/local/lib/python3.7/dist-packages/sklearn/neural_network/_multilayer_perceptron.py:696: ConvergenceWarning: Stochastic Optimizer: Maximum iterations (100) reached and the optimization hasn't converged yet.\n",
            "  ConvergenceWarning,\n",
            "/usr/local/lib/python3.7/dist-packages/sklearn/neural_network/_multilayer_perceptron.py:696: ConvergenceWarning: Stochastic Optimizer: Maximum iterations (100) reached and the optimization hasn't converged yet.\n",
            "  ConvergenceWarning,\n",
            "/usr/local/lib/python3.7/dist-packages/sklearn/neural_network/_multilayer_perceptron.py:696: ConvergenceWarning: Stochastic Optimizer: Maximum iterations (100) reached and the optimization hasn't converged yet.\n",
            "  ConvergenceWarning,\n",
            "/usr/local/lib/python3.7/dist-packages/sklearn/neural_network/_multilayer_perceptron.py:696: ConvergenceWarning: Stochastic Optimizer: Maximum iterations (100) reached and the optimization hasn't converged yet.\n",
            "  ConvergenceWarning,\n",
            "/usr/local/lib/python3.7/dist-packages/sklearn/neural_network/_multilayer_perceptron.py:696: ConvergenceWarning: Stochastic Optimizer: Maximum iterations (100) reached and the optimization hasn't converged yet.\n",
            "  ConvergenceWarning,\n",
            "/usr/local/lib/python3.7/dist-packages/sklearn/neural_network/_multilayer_perceptron.py:696: ConvergenceWarning: Stochastic Optimizer: Maximum iterations (100) reached and the optimization hasn't converged yet.\n",
            "  ConvergenceWarning,\n",
            "/usr/local/lib/python3.7/dist-packages/sklearn/neural_network/_multilayer_perceptron.py:696: ConvergenceWarning: Stochastic Optimizer: Maximum iterations (100) reached and the optimization hasn't converged yet.\n",
            "  ConvergenceWarning,\n",
            "/usr/local/lib/python3.7/dist-packages/sklearn/neural_network/_multilayer_perceptron.py:696: ConvergenceWarning: Stochastic Optimizer: Maximum iterations (100) reached and the optimization hasn't converged yet.\n",
            "  ConvergenceWarning,\n",
            "/usr/local/lib/python3.7/dist-packages/sklearn/neural_network/_multilayer_perceptron.py:696: ConvergenceWarning: Stochastic Optimizer: Maximum iterations (100) reached and the optimization hasn't converged yet.\n",
            "  ConvergenceWarning,\n",
            "/usr/local/lib/python3.7/dist-packages/sklearn/neural_network/_multilayer_perceptron.py:696: ConvergenceWarning: Stochastic Optimizer: Maximum iterations (100) reached and the optimization hasn't converged yet.\n",
            "  ConvergenceWarning,\n",
            "/usr/local/lib/python3.7/dist-packages/sklearn/neural_network/_multilayer_perceptron.py:696: ConvergenceWarning: Stochastic Optimizer: Maximum iterations (100) reached and the optimization hasn't converged yet.\n",
            "  ConvergenceWarning,\n",
            "/usr/local/lib/python3.7/dist-packages/sklearn/neural_network/_multilayer_perceptron.py:696: ConvergenceWarning: Stochastic Optimizer: Maximum iterations (100) reached and the optimization hasn't converged yet.\n",
            "  ConvergenceWarning,\n",
            "/usr/local/lib/python3.7/dist-packages/sklearn/neural_network/_multilayer_perceptron.py:696: ConvergenceWarning: Stochastic Optimizer: Maximum iterations (100) reached and the optimization hasn't converged yet.\n",
            "  ConvergenceWarning,\n",
            "/usr/local/lib/python3.7/dist-packages/sklearn/neural_network/_multilayer_perceptron.py:696: ConvergenceWarning: Stochastic Optimizer: Maximum iterations (100) reached and the optimization hasn't converged yet.\n",
            "  ConvergenceWarning,\n",
            "/usr/local/lib/python3.7/dist-packages/sklearn/neural_network/_multilayer_perceptron.py:696: ConvergenceWarning: Stochastic Optimizer: Maximum iterations (100) reached and the optimization hasn't converged yet.\n",
            "  ConvergenceWarning,\n",
            "/usr/local/lib/python3.7/dist-packages/sklearn/neural_network/_multilayer_perceptron.py:696: ConvergenceWarning: Stochastic Optimizer: Maximum iterations (100) reached and the optimization hasn't converged yet.\n",
            "  ConvergenceWarning,\n",
            "/usr/local/lib/python3.7/dist-packages/sklearn/neural_network/_multilayer_perceptron.py:696: ConvergenceWarning: Stochastic Optimizer: Maximum iterations (100) reached and the optimization hasn't converged yet.\n",
            "  ConvergenceWarning,\n",
            "/usr/local/lib/python3.7/dist-packages/sklearn/neural_network/_multilayer_perceptron.py:696: ConvergenceWarning: Stochastic Optimizer: Maximum iterations (100) reached and the optimization hasn't converged yet.\n",
            "  ConvergenceWarning,\n",
            "/usr/local/lib/python3.7/dist-packages/sklearn/neural_network/_multilayer_perceptron.py:696: ConvergenceWarning: Stochastic Optimizer: Maximum iterations (100) reached and the optimization hasn't converged yet.\n",
            "  ConvergenceWarning,\n",
            "/usr/local/lib/python3.7/dist-packages/sklearn/neural_network/_multilayer_perceptron.py:696: ConvergenceWarning: Stochastic Optimizer: Maximum iterations (100) reached and the optimization hasn't converged yet.\n",
            "  ConvergenceWarning,\n",
            "/usr/local/lib/python3.7/dist-packages/sklearn/neural_network/_multilayer_perceptron.py:696: ConvergenceWarning: Stochastic Optimizer: Maximum iterations (100) reached and the optimization hasn't converged yet.\n",
            "  ConvergenceWarning,\n",
            "/usr/local/lib/python3.7/dist-packages/sklearn/neural_network/_multilayer_perceptron.py:696: ConvergenceWarning: Stochastic Optimizer: Maximum iterations (100) reached and the optimization hasn't converged yet.\n",
            "  ConvergenceWarning,\n",
            "/usr/local/lib/python3.7/dist-packages/sklearn/neural_network/_multilayer_perceptron.py:696: ConvergenceWarning: Stochastic Optimizer: Maximum iterations (100) reached and the optimization hasn't converged yet.\n",
            "  ConvergenceWarning,\n",
            "/usr/local/lib/python3.7/dist-packages/sklearn/neural_network/_multilayer_perceptron.py:696: ConvergenceWarning: Stochastic Optimizer: Maximum iterations (100) reached and the optimization hasn't converged yet.\n",
            "  ConvergenceWarning,\n",
            "/usr/local/lib/python3.7/dist-packages/sklearn/neural_network/_multilayer_perceptron.py:696: ConvergenceWarning: Stochastic Optimizer: Maximum iterations (100) reached and the optimization hasn't converged yet.\n",
            "  ConvergenceWarning,\n",
            "/usr/local/lib/python3.7/dist-packages/sklearn/neural_network/_multilayer_perceptron.py:696: ConvergenceWarning: Stochastic Optimizer: Maximum iterations (100) reached and the optimization hasn't converged yet.\n",
            "  ConvergenceWarning,\n"
          ]
        },
        {
          "output_type": "execute_result",
          "data": {
            "text/plain": [
              "{'classifier__batch_size': 8,\n",
              " 'classifier__hidden_layer_sizes': (20, 10),\n",
              " 'classifier__learning_rate_init': 0.001,\n",
              " 'classifier__max_iter': 100,\n",
              " 'preprocessing': StandardScaler()}"
            ]
          },
          "metadata": {},
          "execution_count": 65
        }
      ]
    },
    {
      "cell_type": "code",
      "source": [
        "models=[]\n",
        "models.append(('MLPClassifier', grid_9.best_estimator_))\n",
        "precision_score = []\n",
        "recall_score = []\n",
        "f1_score = []\n",
        "accuracy_score = []\n",
        "for name, model in models:\n",
        "    print(name)\n",
        "    print(\"precision_score: {}\".format(metrics.precision_score(y_test, model.predict(X_test), average='micro')))\n",
        "    print(\"recall_score: {}\".format( metrics.recall_score(y_test, model.predict(X_test), average='micro')))\n",
        "    print(\"f1_score: {}\".format( metrics.f1_score(y_test, model.predict(X_test), average='micro')))\n",
        "    print(\"accuracy_score: {}\".format( metrics.accuracy_score(y_test, model.predict(X_test))))\n",
        "    precision_score = metrics.precision_score(y_test, model.predict(X_test), average='micro')\n",
        "    recall_score = metrics.recall_score(y_test, model.predict(X_test), average='micro')\n",
        "    f1_score = metrics.f1_score(y_test, model.predict(X_test), average='micro')\n",
        "    accuracy_score = metrics.accuracy_score(y_test, model.predict(X_test))"
      ],
      "metadata": {
        "colab": {
          "base_uri": "https://localhost:8080/"
        },
        "id": "wx__AE-ci4Il",
        "outputId": "bdc9933a-7389-49bb-8b2a-941be2d8c715"
      },
      "execution_count": 162,
      "outputs": [
        {
          "output_type": "stream",
          "name": "stdout",
          "text": [
            "MLPClassifier\n",
            "precision_score: 0.1756440281030445\n",
            "recall_score: 0.1756440281030445\n",
            "f1_score: 0.1756440281030445\n",
            "accuracy_score: 0.1756440281030445\n"
          ]
        }
      ]
    },
    {
      "cell_type": "code",
      "source": [
        "from keras.models import Sequential\n",
        "from keras.layers import Dense\n",
        "from keras.callbacks import History\n",
        "from keras import backend\n",
        "\n",
        "backend.clear_session()\n",
        "history = History()\n",
        "model = Sequential()\n",
        "model.add(Dense(100,activation=\"relu\", input_shape=(X_train.shape[1],)))\n",
        "model.add(Dense(50,activation=\"relu\"))\n",
        "model.add(Dense(10,activation=\"relu\"))\n",
        "model.add(Dense(1,activation=\"sigmoid\"))\n",
        "model.summary()"
      ],
      "metadata": {
        "colab": {
          "base_uri": "https://localhost:8080/"
        },
        "id": "p75Vlt9Il0k4",
        "outputId": "5d53b349-c0fb-4f70-cc5c-4b1bb44545dc"
      },
      "execution_count": 188,
      "outputs": [
        {
          "output_type": "stream",
          "name": "stdout",
          "text": [
            "Model: \"sequential\"\n",
            "_________________________________________________________________\n",
            " Layer (type)                Output Shape              Param #   \n",
            "=================================================================\n",
            " dense (Dense)               (None, 100)               800       \n",
            "                                                                 \n",
            " dense_1 (Dense)             (None, 50)                5050      \n",
            "                                                                 \n",
            " dense_2 (Dense)             (None, 10)                510       \n",
            "                                                                 \n",
            " dense_3 (Dense)             (None, 1)                 11        \n",
            "                                                                 \n",
            "=================================================================\n",
            "Total params: 6,371\n",
            "Trainable params: 6,371\n",
            "Non-trainable params: 0\n",
            "_________________________________________________________________\n"
          ]
        }
      ]
    },
    {
      "cell_type": "code",
      "source": [
        "scaler = StandardScaler()\n",
        "y_train = scaler.fit_transform(y_train)\n",
        "y_test = scaler.fit_transform(y_test)"
      ],
      "metadata": {
        "id": "BrVLPKc3g51E"
      },
      "execution_count": 173,
      "outputs": []
    },
    {
      "cell_type": "code",
      "source": [
        "model.compile(optimizer='adam',loss=\"mean_squared_error\")\n",
        "history = model.fit(X_train, y_train, epochs=80, batch_size=32, validation_data=(X_test, y_test))"
      ],
      "metadata": {
        "colab": {
          "base_uri": "https://localhost:8080/"
        },
        "id": "12j6t1x-qsoS",
        "outputId": "ae1d2a53-4798-4a47-9a7e-4c5145e59abf"
      },
      "execution_count": 189,
      "outputs": [
        {
          "output_type": "stream",
          "name": "stdout",
          "text": [
            "Epoch 1/80\n",
            "54/54 [==============================] - 1s 5ms/step - loss: 0.8316 - val_loss: 0.6348\n",
            "Epoch 2/80\n",
            "54/54 [==============================] - 0s 3ms/step - loss: 0.5897 - val_loss: 0.5967\n",
            "Epoch 3/80\n",
            "54/54 [==============================] - 0s 3ms/step - loss: 0.5746 - val_loss: 0.5951\n",
            "Epoch 4/80\n",
            "54/54 [==============================] - 0s 3ms/step - loss: 0.5728 - val_loss: 0.5927\n",
            "Epoch 5/80\n",
            "54/54 [==============================] - 0s 3ms/step - loss: 0.5730 - val_loss: 0.5954\n",
            "Epoch 6/80\n",
            "54/54 [==============================] - 0s 3ms/step - loss: 0.5724 - val_loss: 0.5934\n",
            "Epoch 7/80\n",
            "54/54 [==============================] - 0s 3ms/step - loss: 0.5718 - val_loss: 0.5928\n",
            "Epoch 8/80\n",
            "54/54 [==============================] - 0s 3ms/step - loss: 0.5709 - val_loss: 0.5938\n",
            "Epoch 9/80\n",
            "54/54 [==============================] - 0s 3ms/step - loss: 0.5706 - val_loss: 0.5945\n",
            "Epoch 10/80\n",
            "54/54 [==============================] - 0s 3ms/step - loss: 0.5704 - val_loss: 0.5936\n",
            "Epoch 11/80\n",
            "54/54 [==============================] - 0s 3ms/step - loss: 0.5705 - val_loss: 0.5926\n",
            "Epoch 12/80\n",
            "54/54 [==============================] - 0s 3ms/step - loss: 0.5701 - val_loss: 0.5968\n",
            "Epoch 13/80\n",
            "54/54 [==============================] - 0s 3ms/step - loss: 0.5703 - val_loss: 0.5932\n",
            "Epoch 14/80\n",
            "54/54 [==============================] - 0s 3ms/step - loss: 0.5698 - val_loss: 0.5933\n",
            "Epoch 15/80\n",
            "54/54 [==============================] - 0s 3ms/step - loss: 0.5700 - val_loss: 0.5948\n",
            "Epoch 16/80\n",
            "54/54 [==============================] - 0s 3ms/step - loss: 0.5702 - val_loss: 0.5958\n",
            "Epoch 17/80\n",
            "54/54 [==============================] - 0s 3ms/step - loss: 0.5694 - val_loss: 0.5922\n",
            "Epoch 18/80\n",
            "54/54 [==============================] - 0s 3ms/step - loss: 0.5697 - val_loss: 0.5918\n",
            "Epoch 19/80\n",
            "54/54 [==============================] - 0s 3ms/step - loss: 0.5705 - val_loss: 0.5985\n",
            "Epoch 20/80\n",
            "54/54 [==============================] - 0s 3ms/step - loss: 0.5689 - val_loss: 0.5921\n",
            "Epoch 21/80\n",
            "54/54 [==============================] - 0s 3ms/step - loss: 0.5696 - val_loss: 0.5936\n",
            "Epoch 22/80\n",
            "54/54 [==============================] - 0s 3ms/step - loss: 0.5696 - val_loss: 0.5948\n",
            "Epoch 23/80\n",
            "54/54 [==============================] - 0s 3ms/step - loss: 0.5693 - val_loss: 0.5935\n",
            "Epoch 24/80\n",
            "54/54 [==============================] - 0s 3ms/step - loss: 0.5688 - val_loss: 0.5927\n",
            "Epoch 25/80\n",
            "54/54 [==============================] - 0s 3ms/step - loss: 0.5688 - val_loss: 0.5955\n",
            "Epoch 26/80\n",
            "54/54 [==============================] - 0s 3ms/step - loss: 0.5689 - val_loss: 0.5930\n",
            "Epoch 27/80\n",
            "54/54 [==============================] - 0s 3ms/step - loss: 0.5690 - val_loss: 0.5926\n",
            "Epoch 28/80\n",
            "54/54 [==============================] - 0s 3ms/step - loss: 0.5688 - val_loss: 0.5917\n",
            "Epoch 29/80\n",
            "54/54 [==============================] - 0s 3ms/step - loss: 0.5692 - val_loss: 0.5919\n",
            "Epoch 30/80\n",
            "54/54 [==============================] - 0s 3ms/step - loss: 0.5684 - val_loss: 0.5915\n",
            "Epoch 31/80\n",
            "54/54 [==============================] - 0s 3ms/step - loss: 0.5691 - val_loss: 0.5925\n",
            "Epoch 32/80\n",
            "54/54 [==============================] - 0s 3ms/step - loss: 0.5686 - val_loss: 0.5923\n",
            "Epoch 33/80\n",
            "54/54 [==============================] - 0s 3ms/step - loss: 0.5689 - val_loss: 0.5918\n",
            "Epoch 34/80\n",
            "54/54 [==============================] - 0s 3ms/step - loss: 0.5692 - val_loss: 0.5920\n",
            "Epoch 35/80\n",
            "54/54 [==============================] - 0s 3ms/step - loss: 0.5685 - val_loss: 0.5940\n",
            "Epoch 36/80\n",
            "54/54 [==============================] - 0s 3ms/step - loss: 0.5686 - val_loss: 0.5980\n",
            "Epoch 37/80\n",
            "54/54 [==============================] - 0s 3ms/step - loss: 0.5688 - val_loss: 0.5995\n",
            "Epoch 38/80\n",
            "54/54 [==============================] - 0s 3ms/step - loss: 0.5685 - val_loss: 0.5922\n",
            "Epoch 39/80\n",
            "54/54 [==============================] - 0s 3ms/step - loss: 0.5684 - val_loss: 0.5910\n",
            "Epoch 40/80\n",
            "54/54 [==============================] - 0s 3ms/step - loss: 0.5686 - val_loss: 0.5940\n",
            "Epoch 41/80\n",
            "54/54 [==============================] - 0s 3ms/step - loss: 0.5684 - val_loss: 0.5929\n",
            "Epoch 42/80\n",
            "54/54 [==============================] - 0s 3ms/step - loss: 0.5679 - val_loss: 0.5923\n",
            "Epoch 43/80\n",
            "54/54 [==============================] - 0s 3ms/step - loss: 0.5687 - val_loss: 0.5916\n",
            "Epoch 44/80\n",
            "54/54 [==============================] - 0s 3ms/step - loss: 0.5681 - val_loss: 0.5928\n",
            "Epoch 45/80\n",
            "54/54 [==============================] - 0s 3ms/step - loss: 0.5682 - val_loss: 0.5921\n",
            "Epoch 46/80\n",
            "54/54 [==============================] - 0s 3ms/step - loss: 0.5691 - val_loss: 0.5912\n",
            "Epoch 47/80\n",
            "54/54 [==============================] - 0s 3ms/step - loss: 0.5680 - val_loss: 0.5919\n",
            "Epoch 48/80\n",
            "54/54 [==============================] - 0s 4ms/step - loss: 0.5680 - val_loss: 0.5935\n",
            "Epoch 49/80\n",
            "54/54 [==============================] - 0s 3ms/step - loss: 0.5679 - val_loss: 0.5926\n",
            "Epoch 50/80\n",
            "54/54 [==============================] - 0s 3ms/step - loss: 0.5680 - val_loss: 0.5957\n",
            "Epoch 51/80\n",
            "54/54 [==============================] - 0s 3ms/step - loss: 0.5681 - val_loss: 0.5927\n",
            "Epoch 52/80\n",
            "54/54 [==============================] - 0s 3ms/step - loss: 0.5676 - val_loss: 0.5942\n",
            "Epoch 53/80\n",
            "54/54 [==============================] - 0s 3ms/step - loss: 0.5678 - val_loss: 0.5923\n",
            "Epoch 54/80\n",
            "54/54 [==============================] - 0s 3ms/step - loss: 0.5676 - val_loss: 0.5913\n",
            "Epoch 55/80\n",
            "54/54 [==============================] - 0s 3ms/step - loss: 0.5687 - val_loss: 0.5916\n",
            "Epoch 56/80\n",
            "54/54 [==============================] - 0s 3ms/step - loss: 0.5678 - val_loss: 0.5924\n",
            "Epoch 57/80\n",
            "54/54 [==============================] - 0s 3ms/step - loss: 0.5677 - val_loss: 0.5915\n",
            "Epoch 58/80\n",
            "54/54 [==============================] - 0s 3ms/step - loss: 0.5677 - val_loss: 0.5928\n",
            "Epoch 59/80\n",
            "54/54 [==============================] - 0s 3ms/step - loss: 0.5675 - val_loss: 0.5947\n",
            "Epoch 60/80\n",
            "54/54 [==============================] - 0s 3ms/step - loss: 0.5676 - val_loss: 0.5938\n",
            "Epoch 61/80\n",
            "54/54 [==============================] - 0s 3ms/step - loss: 0.5675 - val_loss: 0.5922\n",
            "Epoch 62/80\n",
            "54/54 [==============================] - 0s 3ms/step - loss: 0.5675 - val_loss: 0.5936\n",
            "Epoch 63/80\n",
            "54/54 [==============================] - 0s 3ms/step - loss: 0.5675 - val_loss: 0.5914\n",
            "Epoch 64/80\n",
            "54/54 [==============================] - 0s 3ms/step - loss: 0.5679 - val_loss: 0.5924\n",
            "Epoch 65/80\n",
            "54/54 [==============================] - 0s 3ms/step - loss: 0.5675 - val_loss: 0.5910\n",
            "Epoch 66/80\n",
            "54/54 [==============================] - 0s 3ms/step - loss: 0.5676 - val_loss: 0.5943\n",
            "Epoch 67/80\n",
            "54/54 [==============================] - 0s 3ms/step - loss: 0.5674 - val_loss: 0.5930\n",
            "Epoch 68/80\n",
            "54/54 [==============================] - 0s 3ms/step - loss: 0.5678 - val_loss: 0.5916\n",
            "Epoch 69/80\n",
            "54/54 [==============================] - 0s 3ms/step - loss: 0.5679 - val_loss: 0.5917\n",
            "Epoch 70/80\n",
            "54/54 [==============================] - 0s 3ms/step - loss: 0.5672 - val_loss: 0.5921\n",
            "Epoch 71/80\n",
            "54/54 [==============================] - 0s 3ms/step - loss: 0.5679 - val_loss: 0.5908\n",
            "Epoch 72/80\n",
            "54/54 [==============================] - 0s 3ms/step - loss: 0.5670 - val_loss: 0.5919\n",
            "Epoch 73/80\n",
            "54/54 [==============================] - 0s 3ms/step - loss: 0.5672 - val_loss: 0.5915\n",
            "Epoch 74/80\n",
            "54/54 [==============================] - 0s 3ms/step - loss: 0.5673 - val_loss: 0.5917\n",
            "Epoch 75/80\n",
            "54/54 [==============================] - 0s 3ms/step - loss: 0.5673 - val_loss: 0.5934\n",
            "Epoch 76/80\n",
            "54/54 [==============================] - 0s 3ms/step - loss: 0.5669 - val_loss: 0.5935\n",
            "Epoch 77/80\n",
            "54/54 [==============================] - 0s 3ms/step - loss: 0.5672 - val_loss: 0.5980\n",
            "Epoch 78/80\n",
            "54/54 [==============================] - 0s 3ms/step - loss: 0.5674 - val_loss: 0.5934\n",
            "Epoch 79/80\n",
            "54/54 [==============================] - 0s 3ms/step - loss: 0.5671 - val_loss: 0.5935\n",
            "Epoch 80/80\n",
            "54/54 [==============================] - 0s 3ms/step - loss: 0.5671 - val_loss: 0.5921\n"
          ]
        }
      ]
    },
    {
      "cell_type": "code",
      "source": [
        "plt.figure(figsize=(10,5))\n",
        "plt.plot(history.history['loss'])\n",
        "plt.plot(history.history['val_loss'])\n",
        "plt.xlabel('epochs')\n",
        "plt.ylabel('losses')\n",
        "plt.show()"
      ],
      "metadata": {
        "colab": {
          "base_uri": "https://localhost:8080/",
          "height": 334
        },
        "id": "USB0pfxLHeNY",
        "outputId": "573fee7c-776f-4367-c232-ee6427c1d672"
      },
      "execution_count": 190,
      "outputs": [
        {
          "output_type": "display_data",
          "data": {
            "text/plain": [
              "<Figure size 720x360 with 1 Axes>"
            ],
            "image/png": "[encoded data removed]"
          },
          "metadata": {
            "needs_background": "light"
          }
        }
      ]
    }
  ]
}